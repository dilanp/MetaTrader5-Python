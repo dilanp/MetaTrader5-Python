{
 "cells": [
  {
   "cell_type": "markdown",
   "id": "890736d7-23d4-44f5-a305-c6397219e0f1",
   "metadata": {},
   "source": [
    "### 1. Import required packages"
   ]
  },
  {
   "cell_type": "code",
   "execution_count": 16,
   "id": "2699bc52-e654-49b3-8ac1-5ca6e458020e",
   "metadata": {},
   "outputs": [],
   "source": [
    "import MetaTrader5 as mt5\n",
    "import time\n",
    "import numpy as np\n",
    "import pandas as pd"
   ]
  },
  {
   "cell_type": "markdown",
   "id": "961b7e15-1732-48f0-9242-5844ec15da70",
   "metadata": {},
   "source": [
    "### 2. Initialise MT5 binding"
   ]
  },
  {
   "cell_type": "code",
   "execution_count": 17,
   "id": "de45be6c-a1ac-4d18-a7ce-342dee22c952",
   "metadata": {},
   "outputs": [
    {
     "data": {
      "text/plain": [
       "True"
      ]
     },
     "execution_count": 17,
     "metadata": {},
     "output_type": "execute_result"
    }
   ],
   "source": [
    "mt5.initialize(\"C:\\\\Program Files\\\\Pepperstone MetaTrader 5\\\\terminal64.exe\")"
   ]
  },
  {
   "cell_type": "markdown",
   "id": "2d285fb9-6cf6-49be-ad8d-332a3916a0a9",
   "metadata": {},
   "source": [
    "### 3. Basic money management"
   ]
  },
  {
   "cell_type": "markdown",
   "id": "946e4905-6bb4-4b5e-9c91-148ee8889094",
   "metadata": {},
   "source": [
    "#### BUY order with take profit & stop loss"
   ]
  },
  {
   "cell_type": "code",
   "execution_count": 18,
   "id": "37b00eb9-3df0-4168-8537-8fa570f5d6a2",
   "metadata": {},
   "outputs": [
    {
     "data": {
      "text/plain": [
       "'Done'"
      ]
     },
     "execution_count": 18,
     "metadata": {},
     "output_type": "execute_result"
    }
   ],
   "source": [
    "# Variables\n",
    "volume = 0.1\n",
    "symbol = \"EURUSD_SB\"\n",
    "deviation = 10\n",
    "\n",
    "# Extract symbol point\n",
    "point = mt5.symbol_info(symbol).point\n",
    "\n",
    "# Find the filling mode of symbol\n",
    "#filling_type = mt5.symbol_info(symbol).filling_mode\n",
    "\n",
    "# Create request\n",
    "request = {\n",
    "    \"action\": mt5.TRADE_ACTION_DEAL,\n",
    "    \"symbol\": symbol,\n",
    "    \"volume\": volume,\n",
    "    \"type\": mt5.ORDER_TYPE_BUY,\n",
    "    \"deviation\": deviation,\n",
    "    \"tp\": mt5.symbol_info_tick(symbol).ask + 100*point,\n",
    "    \"sl\": mt5.symbol_info_tick(symbol).ask - 100*point, \n",
    "    \"type_filling\": mt5.ORDER_FILLING_IOC, # OR filling_type\n",
    "    \"type_time\": mt5.ORDER_TIME_GTC,\n",
    "}\n",
    "\n",
    "# Test order\n",
    "mt5.order_check(request).comment"
   ]
  },
  {
   "cell_type": "markdown",
   "id": "0ef11e46-feac-465e-aad5-4fb8c6c90fd3",
   "metadata": {},
   "source": [
    "#### SELL order with take profit & stop loss"
   ]
  },
  {
   "cell_type": "code",
   "execution_count": 19,
   "id": "e2999067-4223-4094-85e4-4be805829640",
   "metadata": {},
   "outputs": [
    {
     "data": {
      "text/plain": [
       "'Done'"
      ]
     },
     "execution_count": 19,
     "metadata": {},
     "output_type": "execute_result"
    }
   ],
   "source": [
    "# Variables\n",
    "volume = 0.1\n",
    "symbol = \"EURUSD_SB\"\n",
    "deviation = 10\n",
    "\n",
    "# Extract symbol point\n",
    "point = mt5.symbol_info(symbol).point\n",
    "\n",
    "# Find the filling mode of symbol\n",
    "#filling_type = mt5.symbol_info(symbol).filling_mode\n",
    "\n",
    "# Create request\n",
    "request = {\n",
    "    \"action\": mt5.TRADE_ACTION_DEAL,\n",
    "    \"symbol\": symbol,\n",
    "    \"volume\": volume,\n",
    "    \"type\": mt5.ORDER_TYPE_SELL,\n",
    "    \"price\": mt5.symbol_info_tick(symbol).bid,\n",
    "    \"deviation\": deviation,\n",
    "    \"tp\": mt5.symbol_info_tick(symbol).ask - 100 * point,\n",
    "    \"sl\": mt5.symbol_info_tick(symbol).ask + 100 * point, \n",
    "    \"type_filling\": mt5.ORDER_FILLING_IOC, # OR filling_type\n",
    "    \"type_time\": mt5.ORDER_TIME_GTC,\n",
    "}\n",
    "\n",
    "mt5.order_check(request).comment"
   ]
  },
  {
   "cell_type": "markdown",
   "id": "ef6e04a7-342e-42d2-92b7-cbc9b10be6c8",
   "metadata": {},
   "source": [
    "#### Find stop loss and take profit levels for a specific risk percentage"
   ]
  },
  {
   "cell_type": "code",
   "execution_count": 20,
   "id": "a381add8-7192-4e5e-a1b6-23bbc9045969",
   "metadata": {},
   "outputs": [
    {
     "name": "stdout",
     "output_type": "stream",
     "text": [
      "PRICE: 1.10352 \t Take Profit: 1.10426 \t Stop Loss: 1.10315\n"
     ]
    }
   ],
   "source": [
    "# Variables\n",
    "symbol = \"EURUSD_SB\"\n",
    "buy = True\n",
    "risk  = 0.01\n",
    "risk_reward_ratio = 2\n",
    "\n",
    "# Extract account leverage\n",
    "leverage = mt5.account_info().leverage\n",
    "\n",
    "# Compute the price\n",
    "price = mt5.symbol_info(symbol).ask\n",
    "\n",
    "# Extract the number of decimals\n",
    "nb_decimal = str(price)[::-1].find(\".\")\n",
    "\n",
    "\n",
    "# Compute the variations in percentage\n",
    "var_down = risk/leverage\n",
    "var_up = (risk * risk_reward_ratio)/leverage\n",
    "\n",
    "\n",
    "# Find the TP and SL threshold in absolute price\n",
    "if buy:\n",
    "    price = mt5.symbol_info(symbol).ask\n",
    "\n",
    "    # Compute the variations in absolute price\n",
    "    price_var_down = var_down*price\n",
    "    price_var_up = var_up * price\n",
    "\n",
    "    tp = np.round(price + price_var_up, nb_decimal)\n",
    "    sl = np.round(price - price_var_down, nb_decimal)\n",
    "\n",
    "else:\n",
    "\n",
    "    price = mt5.symbol_info(symbol).bid\n",
    "\n",
    "    # Compute the variations in absolute price\n",
    "    price_var_down = var_down*price\n",
    "    price_var_up = var_up * price\n",
    "\n",
    "    tp = np.round(price - price_var_up, nb_decimal)\n",
    "    sl = np.round(price + price_var_down, nb_decimal)\n",
    "\n",
    "print(f\"PRICE: {price} \\t Take Profit: {tp} \\t Stop Loss: {sl}\")"
   ]
  },
  {
   "cell_type": "markdown",
   "id": "8f24998f-579f-406d-8150-a140a0cfffd8",
   "metadata": {},
   "source": [
    "#### Find the volume based on account capital"
   ]
  },
  {
   "cell_type": "code",
   "execution_count": 21,
   "id": "019dc455-2653-4b46-8325-546b260be237",
   "metadata": {},
   "outputs": [
    {
     "name": "stdout",
     "output_type": "stream",
     "text": [
      "INVESTED CAPITAL: 6000\n",
      "LEVERAGE: 30\n",
      "INVESTED CAPITAL LEVERAGED: 180000\n",
      "TRADE SIZE: 10000.0\n",
      "PRICE: 1.103455\n",
      "LOT SIZE: 16.312400596308866\n",
      "MIN LOT: 0.1\n",
      "MAX LOT: 1000.0\n",
      "NUMBER DECIMAL: 1\n",
      "LOT SIZE ROUNDED: 16.3\n",
      "GOOD SIZE LOT: 16.3\n"
     ]
    }
   ],
   "source": [
    "# Variables\n",
    "symbol = \"EURUSD_SB\"\n",
    "\n",
    "# Read account balance\n",
    "capital = 6000 # mt5.account_info().balance\n",
    "print(f\"INVESTED CAPITAL: {capital}\")\n",
    "\n",
    "leverage = mt5.account_info().leverage\n",
    "print(f\"LEVERAGE: {leverage}\")\n",
    "\n",
    "invested_capital = capital  * leverage\n",
    "print(f\"INVESTED CAPITAL LEVERAGED: {invested_capital}\")\n",
    "\n",
    "trade_size = mt5.symbol_info(symbol).trade_contract_size\n",
    "print(f\"TRADE SIZE: {trade_size}\")\n",
    "\n",
    "price = (mt5.symbol_info(symbol).ask + mt5.symbol_info(symbol).bid)/2\n",
    "print(f\"PRICE: {price}\")\n",
    "\n",
    "lot_size = invested_capital / trade_size / price\n",
    "print(f\"LOT SIZE: {lot_size}\")\n",
    "\n",
    "min_lot = mt5.symbol_info(symbol).volume_min\n",
    "print(f\"MIN LOT: {min_lot}\")\n",
    "\n",
    "max_lot = mt5.symbol_info(symbol).volume_max\n",
    "print(f\"MAX LOT: {max_lot}\")\n",
    "\n",
    "\n",
    "if min_lot<lot_size:\n",
    "    number_decimal = str(min_lot)[::-1].find(\".\")\n",
    "    print(f\"NUMBER DECIMAL: {number_decimal}\")\n",
    "\n",
    "    if number_decimal>0:\n",
    "        lot_size_rounded = np.round(lot_size, number_decimal)\n",
    "        print(f\"LOT SIZE ROUNDED: {lot_size_rounded}\")\n",
    "\n",
    "        if lot_size < lot_size_rounded:\n",
    "            lot_size_rounded = np.round(lot_size_rounded - min_lot, number_decimal)\n",
    "            print(f\"LOT DOWN ROUNDED: {lot_size_rounded}\")\n",
    "\n",
    "    else:\n",
    "        number_size_lot =  len(str(min_lot))\n",
    "\n",
    "        lot_size_rounded = int(np.round(lot_size, -number_size_lot))\n",
    "\n",
    "        if lot_size < lot_size_rounded:\n",
    "            lot_size_rounded = int(np.round(lot_size_rounded - number_size_lot, - number_size_lot))\n",
    "            \n",
    "    if lot_size_rounded>max_lot:\n",
    "        lot_size_rounded = max_lot\n",
    "        \n",
    "    print(f\"GOOD SIZE LOT: {lot_size_rounded}\")\n",
    "else: \n",
    "    print(\"Invested capital is too small to be able to place an order\")"
   ]
  },
  {
   "cell_type": "markdown",
   "id": "5924c49c-e5cf-4c99-b316-a41da996b2e8",
   "metadata": {},
   "source": [
    "### 3. Advanced money management"
   ]
  },
  {
   "cell_type": "markdown",
   "id": "c5263cde-adb4-4593-9e7b-bf07fca444c6",
   "metadata": {},
   "source": [
    "#### Retrieve current positions"
   ]
  },
  {
   "cell_type": "code",
   "execution_count": 25,
   "id": "2d030aaf-1a55-4828-9fa8-746c227983ed",
   "metadata": {},
   "outputs": [
    {
     "data": {
      "text/plain": [
       "(TradePosition(ticket=10964307, time=1703891675, time_msc=1703891675343, time_update=1703891675, time_update_msc=1703891675343, type=0, magic=0, identifier=10964307, reason=3, volume=0.1, price_open=1.10362, sl=0.0, tp=0.0, price_current=1.10351, swap=0.0, profit=-0.11, symbol='EURUSD_SB', comment='', external_id=''),\n",
       " TradePosition(ticket=10964308, time=1703891679, time_msc=1703891679251, time_update=1703891679, time_update_msc=1703891679251, type=1, magic=0, identifier=10964308, reason=3, volume=0.1, price_open=1.10351, sl=0.0, tp=0.0, price_current=1.10362, swap=0.0, profit=-0.11, symbol='EURUSD_SB', comment='', external_id=''))"
      ]
     },
     "execution_count": 25,
     "metadata": {},
     "output_type": "execute_result"
    }
   ],
   "source": [
    "mt5.positions_get()"
   ]
  },
  {
   "cell_type": "code",
   "execution_count": 26,
   "id": "697f0362-a060-4dda-a5f4-8b687721f604",
   "metadata": {},
   "outputs": [],
   "source": [
    "def get_current_positions():\n",
    "    \"\"\" Return the current positions. Position=0 --> Buy \"\"\"    \n",
    "    # Define the name of the columns that we will create\n",
    "    columns = [\"ticket\", \"position\", \"symbol\", \"volume\", \"magic\", \"profit\", \"price\", \"tp\", \"sl\",\"trade_size\"]\n",
    "\n",
    "    # Go take the current open trades\n",
    "    list_current = mt5.positions_get()\n",
    "\n",
    "    # Create a empty dataframe\n",
    "    summary = pd.DataFrame()\n",
    "\n",
    "    # Loop to add each row in dataframe\n",
    "    for element in list_current:\n",
    "        element_pandas = pd.DataFrame([element.ticket, element.type, element.symbol, element.volume, element.magic,\n",
    "                                       element.profit, element.price_open, element.tp,\n",
    "                                       element.sl, mt5.symbol_info(element.symbol).trade_contract_size],\n",
    "                                      index=columns).transpose()\n",
    "        summary = pd.concat((summary, element_pandas), axis=0)\n",
    "    \n",
    "    try:\n",
    "        summary[\"profit %\"] = summary.profit / (summary.price * summary.trade_size * summary.volume)\n",
    "        summary = summary.reset_index(drop=True)\n",
    "    except:\n",
    "        pass\n",
    "    return summary"
   ]
  },
  {
   "cell_type": "code",
   "execution_count": 29,
   "id": "3df0bd4d-a49f-4bcf-b231-57c631196465",
   "metadata": {},
   "outputs": [
    {
     "data": {
      "text/html": [
       "<div>\n",
       "<style scoped>\n",
       "    .dataframe tbody tr th:only-of-type {\n",
       "        vertical-align: middle;\n",
       "    }\n",
       "\n",
       "    .dataframe tbody tr th {\n",
       "        vertical-align: top;\n",
       "    }\n",
       "\n",
       "    .dataframe thead th {\n",
       "        text-align: right;\n",
       "    }\n",
       "</style>\n",
       "<table border=\"1\" class=\"dataframe\">\n",
       "  <thead>\n",
       "    <tr style=\"text-align: right;\">\n",
       "      <th></th>\n",
       "      <th>ticket</th>\n",
       "      <th>position</th>\n",
       "      <th>symbol</th>\n",
       "      <th>volume</th>\n",
       "      <th>magic</th>\n",
       "      <th>profit</th>\n",
       "      <th>price</th>\n",
       "      <th>tp</th>\n",
       "      <th>sl</th>\n",
       "      <th>trade_size</th>\n",
       "      <th>profit %</th>\n",
       "    </tr>\n",
       "  </thead>\n",
       "  <tbody>\n",
       "    <tr>\n",
       "      <th>0</th>\n",
       "      <td>10964330</td>\n",
       "      <td>0</td>\n",
       "      <td>EURUSD_SB</td>\n",
       "      <td>0.1</td>\n",
       "      <td>0</td>\n",
       "      <td>-0.14</td>\n",
       "      <td>1.10356</td>\n",
       "      <td>0.0</td>\n",
       "      <td>0.0</td>\n",
       "      <td>10000.0</td>\n",
       "      <td>-0.000127</td>\n",
       "    </tr>\n",
       "    <tr>\n",
       "      <th>1</th>\n",
       "      <td>10964331</td>\n",
       "      <td>1</td>\n",
       "      <td>EURUSD_SB</td>\n",
       "      <td>0.1</td>\n",
       "      <td>0</td>\n",
       "      <td>-0.12</td>\n",
       "      <td>1.10343</td>\n",
       "      <td>0.0</td>\n",
       "      <td>0.0</td>\n",
       "      <td>10000.0</td>\n",
       "      <td>-0.000109</td>\n",
       "    </tr>\n",
       "  </tbody>\n",
       "</table>\n",
       "</div>"
      ],
      "text/plain": [
       "     ticket position     symbol volume magic profit    price   tp   sl  \\\n",
       "0  10964330        0  EURUSD_SB    0.1     0  -0.14  1.10356  0.0  0.0   \n",
       "1  10964331        1  EURUSD_SB    0.1     0  -0.12  1.10343  0.0  0.0   \n",
       "\n",
       "  trade_size  profit %  \n",
       "0    10000.0 -0.000127  \n",
       "1    10000.0 -0.000109  "
      ]
     },
     "execution_count": 29,
     "metadata": {},
     "output_type": "execute_result"
    }
   ],
   "source": [
    "get_current_positions()"
   ]
  },
  {
   "cell_type": "markdown",
   "id": "e6b36833-5a99-4a64-89ab-dea51984de41",
   "metadata": {},
   "source": [
    "#### Implement Trailing Stop Loss"
   ]
  },
  {
   "cell_type": "code",
   "execution_count": 32,
   "id": "d48c5c52-f74d-48a9-88b5-0f09fec90371",
   "metadata": {},
   "outputs": [],
   "source": [
    "def trailing_stop_loss():\n",
    "    global max_price, min_price, summary\n",
    "    \n",
    "    # Extract the current open positions\n",
    "    summary = get_current_positions()\n",
    "    \n",
    "    # Verification: Is there any open position?\n",
    "    if summary.shape[0] > 0:\n",
    "        for i in range(summary.shape[0]):\n",
    "            \n",
    "            # Extract information\n",
    "            row = summary.iloc[i]\n",
    "            symbol = row[\"symbol\"]\n",
    "\n",
    "            \"\"\" CASE 1: Change dynamicly the stop loss for a BUY ORDER \"\"\"\n",
    "            # Trailing stop loss for a buy order\n",
    "            if row[\"position\"] == 0:\n",
    "               \n",
    "                if symbol not in max_price.keys():\n",
    "                    max_price[symbol]=row[\"price\"]\n",
    "                \n",
    "                # Extract current price \n",
    "                current_price = (mt5.symbol_info(symbol).ask + mt5.symbol_info(symbol).bid ) / 2\n",
    "                \n",
    "                #Compute distance between current price an max price\n",
    "                from_sl_to_curent_price = current_price - row[\"sl\"]\n",
    "                from_sl_to_max_price = max_price[symbol] - row[\"sl\"]\n",
    "                \n",
    "                \n",
    "                # If current price is greater than preivous max price --> new max price\n",
    "                if current_price > max_price[symbol]:\n",
    "                    max_price[symbol] = current_price\n",
    "                    \n",
    "                \n",
    "                # Find the difference between the current minus max \n",
    "                if from_sl_to_curent_price > from_sl_to_max_price:\n",
    "                    difference = from_sl_to_curent_price - from_sl_to_max_price\n",
    "\n",
    "                    # Set filling mode\n",
    "                    filling_type = mt5.symbol_info(symbol).filling_mode\n",
    "\n",
    "                    # Set the point\n",
    "                    point = mt5.symbol_info(symbol).point\n",
    "\n",
    "                    # Change the sl\n",
    "                    request = {\n",
    "                    \"action\": mt5.TRADE_ACTION_SLTP,\n",
    "                    \"symbol\": symbol,\n",
    "                    \"position\": row[\"ticket\"],\n",
    "                    \"volume\": row[\"volume\"],\n",
    "                    \"type\": mt5.ORDER_TYPE_BUY,\n",
    "                    \"price\": row[\"price\"],\n",
    "                    \"sl\": row[\"sl\"] + difference,\n",
    "                    \"type_filling\": mt5.ORDER_FILLING_IOC,\n",
    "                    \"type_time\": mt5.ORDER_TIME_GTC,\n",
    "                    }\n",
    "                    \n",
    "                    information = mt5.order_send(request)\n",
    "                    print(information)\n",
    "                    \n",
    "            \n",
    "            \"\"\" CASE 2: Change dynamicly the stop loss for a SELL ORDER \"\"\"\n",
    "            # Trailing stop loss for a sell order\n",
    "            if row[\"position\"] == 1:\n",
    "                \n",
    "                if symbol not in min_price.keys():\n",
    "                    min_price[symbol]=row[\"price\"]\n",
    "                    \n",
    "                # Extract current price \n",
    "                current_price = (mt5.symbol_info(symbol).ask + mt5.symbol_info(symbol).bid ) / 2\n",
    "                \n",
    "                \n",
    "                \n",
    "                #Compute distance between current price an max price\n",
    "                from_sl_to_curent_price = row[\"sl\"] - current_price\n",
    "                from_sl_to_min_price = row[\"sl\"] - min_price[symbol]\n",
    "                \n",
    "                 # If current price is greater than preivous max price --> new max price\n",
    "                if current_price < min_price[symbol]:\n",
    "                    min_price[symbol] = current_price\n",
    "                                \n",
    "                    \n",
    "                # Find the difference between the current minus max \n",
    "                if from_sl_to_curent_price > from_sl_to_min_price:\n",
    "                    difference = from_sl_to_curent_price - from_sl_to_min_price \n",
    "\n",
    "                    # Set filling mode\n",
    "                    filling_type = mt5.symbol_info(symbol).filling_mode\n",
    "\n",
    "                    # Set the point\n",
    "                    point = mt5.symbol_info(symbol).point\n",
    "\n",
    "                    # Change the sl\n",
    "                    request = {\n",
    "                    \"action\": mt5.TRADE_ACTION_SLTP,\n",
    "                    \"symbol\": symbol,\n",
    "                    \"position\": row[\"ticket\"],\n",
    "                    \"volume\": row[\"volume\"],\n",
    "                    \"type\": mt5.ORDER_TYPE_SELL,\n",
    "                    \"price\": row[\"price\"],\n",
    "                    \"sl\": row[\"sl\"] - difference,\n",
    "                    \"type_filling\": mt5.ORDER_FILLING_IOC,\n",
    "                    \"type_time\": mt5.ORDER_TIME_GTC,\n",
    "                    }\n",
    "                    \n",
    "                \n",
    "                    information = mt5.order_send(request)\n",
    "                    print(information)"
   ]
  },
  {
   "cell_type": "code",
   "execution_count": 33,
   "id": "c3e4fdd7-fdff-4adb-ae34-f2f4d14712d4",
   "metadata": {},
   "outputs": [
    {
     "data": {
      "text/plain": [
       "(1, 'Success')"
      ]
     },
     "execution_count": 33,
     "metadata": {},
     "output_type": "execute_result"
    }
   ],
   "source": []
  },
  {
   "cell_type": "code",
   "execution_count": null,
   "id": "1c922de0-1d63-4537-a259-6a1eccc295e3",
   "metadata": {},
   "outputs": [],
   "source": []
  }
 ],
 "metadata": {
  "kernelspec": {
   "display_name": "Python 3 (ipykernel)",
   "language": "python",
   "name": "python3"
  },
  "language_info": {
   "codemirror_mode": {
    "name": "ipython",
    "version": 3
   },
   "file_extension": ".py",
   "mimetype": "text/x-python",
   "name": "python",
   "nbconvert_exporter": "python",
   "pygments_lexer": "ipython3",
   "version": "3.11.5"
  }
 },
 "nbformat": 4,
 "nbformat_minor": 5
}
