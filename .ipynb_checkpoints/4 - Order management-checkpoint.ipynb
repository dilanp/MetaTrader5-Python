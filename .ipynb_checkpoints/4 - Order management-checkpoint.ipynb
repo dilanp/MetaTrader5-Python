{
 "cells": [
  {
   "cell_type": "markdown",
   "id": "6b94cb5c-a072-44de-877a-0c40b3bfbf5d",
   "metadata": {},
   "source": [
    "### 1. Import required packages"
   ]
  },
  {
   "cell_type": "code",
   "execution_count": 28,
   "id": "9f20071f-8e00-4f00-9fcb-f0ba274b5ed8",
   "metadata": {},
   "outputs": [],
   "source": [
    "import MetaTrader5 as mt5\n",
    "from datetime import datetime"
   ]
  },
  {
   "cell_type": "markdown",
   "id": "934a5456-3056-475f-9be3-a5812a3ee26b",
   "metadata": {},
   "source": [
    "### 2. Initialise the binding"
   ]
  },
  {
   "cell_type": "code",
   "execution_count": 29,
   "id": "f27d2982-4e40-4a96-8b0a-96385958bd86",
   "metadata": {},
   "outputs": [
    {
     "data": {
      "text/plain": [
       "True"
      ]
     },
     "execution_count": 29,
     "metadata": {},
     "output_type": "execute_result"
    }
   ],
   "source": [
    "mt5.initialize(\"C:\\\\Program Files\\\\Pepperstone MetaTrader 5\\\\terminal64.exe\")"
   ]
  },
  {
   "cell_type": "markdown",
   "id": "72d80715-3ea2-48b1-a27c-54782147d9c4",
   "metadata": {},
   "source": [
    "### 3. Basic Order operations"
   ]
  },
  {
   "cell_type": "markdown",
   "id": "d4cd7863-f8a3-42e3-8530-9bc4a65994a0",
   "metadata": {},
   "source": [
    "#### Place a BUY order"
   ]
  },
  {
   "cell_type": "code",
   "execution_count": 30,
   "id": "9d334373-e50f-4e25-aee8-b34a9c09b862",
   "metadata": {},
   "outputs": [],
   "source": [
    "# Setup variables\n",
    "symbol = \"EURUSD_SB\"\n",
    "volume = 0.1 # In LOTS (Lot = 100,000)\n",
    "\n",
    "# Create the request\n",
    "request = {\n",
    "    \"action\": mt5.TRADE_ACTION_DEAL,\n",
    "    \"symbol\": symbol,\n",
    "    \"volume\": volume,\n",
    "    \"type\": mt5.ORDER_TYPE_BUY,\n",
    "    \"price\": mt5.symbol_info_tick(symbol).ask,\n",
    "    \"deviation\": 10,\n",
    "    \"type_filling\": mt5.ORDER_FILLING_IOC,\n",
    "    \"type_time\": mt5.ORDER_TIME_GTC\n",
    "}\n",
    "\n",
    "# Check order placement first (for safety!)\n",
    "# mt5.order_check(request)\n",
    "\n",
    "# Place the BUY order\n",
    "buy_order_1 = mt5.order_send(request)"
   ]
  },
  {
   "cell_type": "markdown",
   "id": "73958e58-2afb-45fd-bf23-2780785b4b25",
   "metadata": {},
   "source": [
    "#### Place a SELL order"
   ]
  },
  {
   "cell_type": "code",
   "execution_count": 31,
   "id": "3ea1b33c-5b21-4de3-a329-44efc29f6505",
   "metadata": {},
   "outputs": [],
   "source": [
    "# Setup variables\n",
    "symbol = \"EURUSD_SB\"\n",
    "volume = 0.1 # In LOTS (Lot = 100,000)\n",
    "\n",
    "# Create the request\n",
    "request = {\n",
    "    \"action\": mt5.TRADE_ACTION_DEAL,\n",
    "    \"symbol\": symbol,\n",
    "    \"volume\": volume,\n",
    "    \"type\": mt5.ORDER_TYPE_SELL,\n",
    "    \"price\": mt5.symbol_info_tick(symbol).bid,\n",
    "    \"deviation\": 10,\n",
    "    \"type_filling\": mt5.ORDER_FILLING_IOC,\n",
    "    \"type_time\": mt5.ORDER_TIME_GTC\n",
    "}\n",
    "\n",
    "# Place the SELL order\n",
    "sell_order_1 = mt5.order_send(request)"
   ]
  },
  {
   "cell_type": "markdown",
   "id": "268be112-ac37-466c-99cb-5e2363526fec",
   "metadata": {},
   "source": [
    "#### Close a BUY order"
   ]
  },
  {
   "cell_type": "code",
   "execution_count": 32,
   "id": "03c5bed5-a732-4f75-901a-39fb6d551616",
   "metadata": {},
   "outputs": [
    {
     "data": {
      "text/plain": [
       "OrderSendResult(retcode=10009, deal=8292805, order=10964229, volume=0.1, price=1.10396, bid=0.0, ask=0.0, comment='Request executed', request_id=1677816923, retcode_external=0, request=TradeRequest(action=1, magic=0, order=0, symbol='EURUSD_SB', volume=0.1, price=1.10396, stoplimit=0.0, sl=0.0, tp=0.0, deviation=10, type=1, type_filling=1, type_time=0, expiration=0, comment='', position=10964225, position_by=0))"
      ]
     },
     "execution_count": 32,
     "metadata": {},
     "output_type": "execute_result"
    }
   ],
   "source": [
    "# request is a bit similar to a SELL order!\n",
    "request = {\n",
    "    \"action\": mt5.TRADE_ACTION_DEAL,\n",
    "    \"symbol\": symbol,\n",
    "    \"position\": buy_order_1.order, # ID of the BUY order created\n",
    "    \"volume\": volume,\n",
    "    \"type\": mt5.ORDER_TYPE_SELL, # MUST be the opposite of BUY\n",
    "    \"price\": mt5.symbol_info_tick(symbol).bid, # Opposite of ask!\n",
    "    \"deviation\": 10,\n",
    "    \"type_filling\": mt5.ORDER_FILLING_IOC,\n",
    "    \"type_time\": mt5.ORDER_TIME_GTC\n",
    "}\n",
    "\n",
    "mt5.order_send(request)"
   ]
  },
  {
   "cell_type": "markdown",
   "id": "daa9813d-ed3d-4b5e-ac5f-712cab80ba13",
   "metadata": {},
   "source": [
    "#### Close a SELL order"
   ]
  },
  {
   "cell_type": "code",
   "execution_count": 33,
   "id": "e1b2b759-ef58-4047-a874-14affd3e4691",
   "metadata": {},
   "outputs": [
    {
     "data": {
      "text/plain": [
       "OrderSendResult(retcode=10009, deal=8292807, order=10964231, volume=0.1, price=1.10403, bid=0.0, ask=0.0, comment='Request executed', request_id=1677816924, retcode_external=0, request=TradeRequest(action=1, magic=0, order=0, symbol='EURUSD_SB', volume=0.1, price=1.10403, stoplimit=0.0, sl=0.0, tp=0.0, deviation=10, type=0, type_filling=1, type_time=0, expiration=0, comment='', position=10964227, position_by=0))"
      ]
     },
     "execution_count": 33,
     "metadata": {},
     "output_type": "execute_result"
    }
   ],
   "source": [
    "# request is a bit similar to a buy order!\n",
    "request = {\n",
    "    \"action\": mt5.TRADE_ACTION_DEAL,\n",
    "    \"symbol\": symbol,\n",
    "    \"position\": sell_order_1.order, # ID of the sell order created\n",
    "    \"volume\": volume,\n",
    "    \"type\": mt5.ORDER_TYPE_BUY,\n",
    "    \"price\": mt5.symbol_info_tick(symbol).ask,\n",
    "    \"deviation\": 10,\n",
    "    \"type_filling\": mt5.ORDER_FILLING_IOC,\n",
    "    \"type_time\": mt5.ORDER_TIME_GTC\n",
    "}\n",
    "\n",
    "mt5.order_send(request)"
   ]
  },
  {
   "cell_type": "markdown",
   "id": "d298bad0-0d96-4e60-8841-50076af1a0dd",
   "metadata": {},
   "source": [
    "### 4. Advanced Order operations"
   ]
  },
  {
   "cell_type": "markdown",
   "id": "a4593e43-fcd2-4c58-a69e-ed1e8444d36a",
   "metadata": {},
   "source": [
    "#### Place and remove a pending order"
   ]
  },
  {
   "cell_type": "code",
   "execution_count": 37,
   "id": "800cd844-b11d-4d7b-b7e8-4f01e9d8e6dc",
   "metadata": {},
   "outputs": [
    {
     "data": {
      "text/plain": [
       "OrderSendResult(retcode=10009, deal=0, order=10964266, volume=0.1, price=0.0, bid=0.0, ask=0.0, comment='Request executed', request_id=1677816927, retcode_external=0, request=TradeRequest(action=5, magic=0, order=0, symbol='EURUSD_SB', volume=0.1, price=1.1027500000000001, stoplimit=0.0, sl=0.0, tp=0.0, deviation=0, type=2, type_filling=1, type_time=0, expiration=0, comment='', position=0, position_by=0))"
      ]
     },
     "execution_count": 37,
     "metadata": {},
     "output_type": "execute_result"
    }
   ],
   "source": [
    "# Set the symbol\n",
    "symbol = \"EURUSD_SB\"\n",
    "\n",
    "# Set filling mode\n",
    "#filling_type = mt5.symbol_info(symbol).filling_mode\n",
    "\n",
    "# Get the symbol point\n",
    "point = mt5.symbol_info(symbol).point\n",
    "\n",
    "# Place a SELL LIMIT order\n",
    "request = {\n",
    "    \"action\": mt5.TRADE_ACTION_PENDING,\n",
    "    \"symbol\": symbol,\n",
    "    \"volume\": 0.1,\n",
    "    \"type\": mt5.ORDER_TYPE_BUY_LIMIT,\n",
    "    \"price\": mt5.symbol_info_tick(symbol).bid - 100*point,\n",
    "    \"type_filling\": mt5.ORDER_FILLING_IOC,\n",
    "    \"type_time\": mt5.ORDER_TIME_GTC,\n",
    "}\n",
    "\n",
    "order_info = mt5.order_send(request)\n",
    "order_info"
   ]
  },
  {
   "cell_type": "code",
   "execution_count": 38,
   "id": "62acf48b-8369-48b0-a490-4d1a42784216",
   "metadata": {},
   "outputs": [
    {
     "data": {
      "text/plain": [
       "OrderSendResult(retcode=10009, deal=0, order=10964266, volume=0.0, price=0.0, bid=0.0, ask=0.0, comment='Request executed', request_id=1677816928, retcode_external=0, request=TradeRequest(action=8, magic=0, order=10964266, symbol='', volume=0.0, price=0.0, stoplimit=0.0, sl=0.0, tp=0.0, deviation=0, type=0, type_filling=0, type_time=0, expiration=0, comment='', position=0, position_by=0))"
      ]
     },
     "execution_count": 38,
     "metadata": {},
     "output_type": "execute_result"
    }
   ],
   "source": [
    "# REMOVE the PENDING ORDER\n",
    "request = {\n",
    "     \"action\": mt5.TRADE_ACTION_REMOVE ,\n",
    "     \"order\": order_info.order\n",
    "}\n",
    "\n",
    "mt5.order_send(request)"
   ]
  },
  {
   "cell_type": "markdown",
   "id": "94b53110-c20e-4eb8-8dbc-26a1631c55e5",
   "metadata": {},
   "source": [
    "#### Modify Take Profit & Stop Loss"
   ]
  },
  {
   "cell_type": "code",
   "execution_count": 40,
   "id": "d29755bc-9013-4a0b-91be-1070dac06283",
   "metadata": {},
   "outputs": [
    {
     "data": {
      "text/plain": [
       "OrderSendResult(retcode=10009, deal=8292846, order=10964275, volume=0.1, price=1.10386, bid=0.0, ask=0.0, comment='Request executed', request_id=1677816929, retcode_external=0, request=TradeRequest(action=1, magic=0, order=0, symbol='EURUSD_SB', volume=0.1, price=1.10386, stoplimit=0.0, sl=1.1028600000000002, tp=1.10486, deviation=10, type=0, type_filling=1, type_time=0, expiration=0, comment='', position=0, position_by=0))"
      ]
     },
     "execution_count": 40,
     "metadata": {},
     "output_type": "execute_result"
    }
   ],
   "source": [
    "# Place an order with TP and SL\n",
    "symbol = \"EURUSD_SB\"\n",
    "point = mt5.symbol_info(symbol).point\n",
    "\n",
    "request = {\n",
    "    \"action\": mt5.TRADE_ACTION_DEAL,\n",
    "    \"symbol\": symbol,\n",
    "    \"volume\": 0.1,\n",
    "    \"type\": mt5.ORDER_TYPE_BUY,\n",
    "    \"price\": mt5.symbol_info_tick(symbol).ask,\n",
    "    \"deviation\": deviation,\n",
    "    \"sl\": mt5.symbol_info_tick(symbol).ask-100*point,\n",
    "    \"tp\": mt5.symbol_info_tick(symbol).ask+100*point,\n",
    "    \"type_filling\": mt5.ORDER_FILLING_IOC,\n",
    "    \"type_time\": mt5.ORDER_TIME_GTC,\n",
    "}\n",
    "\n",
    "info_order = mt5.order_send(request)\n",
    "info_order"
   ]
  },
  {
   "cell_type": "code",
   "execution_count": 41,
   "id": "402173e0-8f6f-4989-b003-8cdb15d74ff6",
   "metadata": {},
   "outputs": [
    {
     "data": {
      "text/plain": [
       "OrderSendResult(retcode=10016, deal=0, order=0, volume=0.0, price=0.0, bid=0.0, ask=0.0, comment='Invalid stops', request_id=0, retcode_external=0, request=TradeRequest(action=6, magic=0, order=0, symbol='EURUSD_SB', volume=1.0, price=1.10373, stoplimit=0.0, sl=1.11385, tp=1.09385, deviation=10, type=1, type_filling=1, type_time=0, expiration=0, comment='', position=10964275, position_by=0))"
      ]
     },
     "execution_count": 41,
     "metadata": {},
     "output_type": "execute_result"
    }
   ],
   "source": [
    "# CHANGE SL/TP\n",
    "request = {\n",
    "    \"action\": mt5.TRADE_ACTION_SLTP,\n",
    "    \"symbol\": symbol,\n",
    "    \"position\": info_order.order,\n",
    "    \"volume\": 0.1,\n",
    "    \"type\": mt5.ORDER_TYPE_SELL,\n",
    "    \"price\": mt5.symbol_info_tick(symbol).bid,\n",
    "    \"deviation\": 10,\n",
    "    \"sl\": mt5.symbol_info_tick(symbol).ask+1000*point,\n",
    "    \"tp\": mt5.symbol_info_tick(symbol).ask-1000*point,\n",
    "    \"type_filling\": mt5.ORDER_FILLING_IOC,\n",
    "    \"type_time\": mt5.ORDER_TIME_GTC,\n",
    "}\n",
    "\n",
    "mt5.order_send(request)"
   ]
  },
  {
   "cell_type": "code",
   "execution_count": 42,
   "id": "5082bc60-5df2-42df-a7b8-f8814291fba2",
   "metadata": {},
   "outputs": [
    {
     "data": {
      "text/plain": [
       "OrderSendResult(retcode=10009, deal=8292866, order=10964293, volume=0.1, price=1.10373, bid=0.0, ask=0.0, comment='Request executed', request_id=1677816930, retcode_external=0, request=TradeRequest(action=1, magic=0, order=0, symbol='EURUSD_SB', volume=0.1, price=1.10373, stoplimit=0.0, sl=0.0, tp=0.0, deviation=10, type=1, type_filling=1, type_time=0, expiration=0, comment='', position=10964275, position_by=0))"
      ]
     },
     "execution_count": 42,
     "metadata": {},
     "output_type": "execute_result"
    }
   ],
   "source": [
    "# Clean up the order\n",
    "request = {\n",
    "    \"action\": mt5.TRADE_ACTION_DEAL,\n",
    "    \"symbol\": symbol,\n",
    "    \"position\": info_order.order, # ID of the BUY order created\n",
    "    \"volume\": 0.1,\n",
    "    \"type\": mt5.ORDER_TYPE_SELL, # MUST be the opposite of BUY\n",
    "    \"price\": mt5.symbol_info_tick(symbol).bid, # Opposite of ask!\n",
    "    \"deviation\": 10,\n",
    "    \"type_filling\": mt5.ORDER_FILLING_IOC,\n",
    "    \"type_time\": mt5.ORDER_TIME_GTC\n",
    "}\n",
    "\n",
    "mt5.order_send(request)"
   ]
  },
  {
   "cell_type": "code",
   "execution_count": null,
   "id": "6223fcec-49f2-4064-90be-9b21a6418f02",
   "metadata": {},
   "outputs": [],
   "source": []
  },
  {
   "cell_type": "code",
   "execution_count": null,
   "id": "a65a2cd9-9199-4fca-bf2b-c894503ca8b7",
   "metadata": {},
   "outputs": [],
   "source": []
  }
 ],
 "metadata": {
  "kernelspec": {
   "display_name": "Python 3 (ipykernel)",
   "language": "python",
   "name": "python3"
  },
  "language_info": {
   "codemirror_mode": {
    "name": "ipython",
    "version": 3
   },
   "file_extension": ".py",
   "mimetype": "text/x-python",
   "name": "python",
   "nbconvert_exporter": "python",
   "pygments_lexer": "ipython3",
   "version": "3.11.5"
  }
 },
 "nbformat": 4,
 "nbformat_minor": 5
}
