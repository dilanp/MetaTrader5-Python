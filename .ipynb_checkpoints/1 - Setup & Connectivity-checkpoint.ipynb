{
 "cells": [
  {
   "cell_type": "markdown",
   "id": "22dd2a39-aaf9-414f-8b75-0ac2c23345b4",
   "metadata": {},
   "source": [
    "## 1. Setup the environment"
   ]
  },
  {
   "cell_type": "markdown",
   "id": "df05530b-999f-46c6-b12f-c56a4e57e4d2",
   "metadata": {},
   "source": [
    "### Install Anaconda software including the Navigator.\n",
    "- Create a new environment (MQL5) => conda create -n MQL5 python=3.11.5\n",
    "- Switch into the new environment => conda activate MQL5 / conda deactivate MQL5\n",
    "- Install basic packages => conda install numpy/pandas/matplotlib\n",
    "- Install MQL5 related package => pip install ta/datetime/MetaTrader5"
   ]
  },
  {
   "cell_type": "markdown",
   "id": "8f25b2bd-8f55-45a6-a810-ec19fe03d152",
   "metadata": {},
   "source": [
    "## 2. Initialise binding between MetaTrader 5 and Python\n",
    "- Refer: https://www.mql5.com/en/docs/python_metatrader5"
   ]
  },
  {
   "cell_type": "markdown",
   "id": "110c5a51-4198-4e45-8d0c-6a94455d5cd8",
   "metadata": {},
   "source": [
    "#### Make sure \"Algo Trading\" is enabled in MT5!"
   ]
  },
  {
   "cell_type": "code",
   "execution_count": 82,
   "id": "19300ee5-deb9-4e1a-930e-dc8726202355",
   "metadata": {},
   "outputs": [
    {
     "data": {
      "text/plain": [
       "True"
      ]
     },
     "execution_count": 82,
     "metadata": {},
     "output_type": "execute_result"
    }
   ],
   "source": [
    "# Import MetaTrader 5\n",
    "import MetaTrader5 as mt5\n",
    "\n",
    "# Initialise the binding\n",
    "mt5.initialize(\"C:\\\\Program Files\\\\Pepperstone MetaTrader 5\\\\terminal64.exe\")"
   ]
  },
  {
   "cell_type": "markdown",
   "id": "6b681649-10d5-4b32-a9af-bcb3a09ef59d",
   "metadata": {},
   "source": [
    "## 3. Identify errors"
   ]
  },
  {
   "cell_type": "code",
   "execution_count": 83,
   "id": "92e6315e-02a1-4770-8a32-27e870350405",
   "metadata": {},
   "outputs": [
    {
     "data": {
      "text/plain": [
       "(1, 'Success')"
      ]
     },
     "execution_count": 83,
     "metadata": {},
     "output_type": "execute_result"
    }
   ],
   "source": [
    "# Check last error\n",
    "mt5.last_error()"
   ]
  },
  {
   "cell_type": "code",
   "execution_count": 84,
   "id": "44cad050-899d-483d-b473-28919016bf93",
   "metadata": {},
   "outputs": [
    {
     "data": {
      "text/plain": [
       "True"
      ]
     },
     "execution_count": 84,
     "metadata": {},
     "output_type": "execute_result"
    }
   ],
   "source": [
    "# Close the binding between MT5 and Python\n",
    "mt5.shutdown()"
   ]
  },
  {
   "cell_type": "code",
   "execution_count": 85,
   "id": "232b1d54-54d7-4767-9818-639d76d231a2",
   "metadata": {},
   "outputs": [
    {
     "data": {
      "text/plain": [
       "(1, 'Success')"
      ]
     },
     "execution_count": 85,
     "metadata": {},
     "output_type": "execute_result"
    }
   ],
   "source": [
    "# Correctly shutdown?\n",
    "mt5.last_error()"
   ]
  },
  {
   "cell_type": "code",
   "execution_count": null,
   "id": "90743675-35db-4f7e-a27c-233a21078c3f",
   "metadata": {},
   "outputs": [],
   "source": []
  }
 ],
 "metadata": {
  "kernelspec": {
   "display_name": "Python 3 (ipykernel)",
   "language": "python",
   "name": "python3"
  },
  "language_info": {
   "codemirror_mode": {
    "name": "ipython",
    "version": 3
   },
   "file_extension": ".py",
   "mimetype": "text/x-python",
   "name": "python",
   "nbconvert_exporter": "python",
   "pygments_lexer": "ipython3",
   "version": "3.11.5"
  }
 },
 "nbformat": 4,
 "nbformat_minor": 5
}
