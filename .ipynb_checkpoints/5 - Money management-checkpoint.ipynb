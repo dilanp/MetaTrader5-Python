{
 "cells": [
  {
   "cell_type": "markdown",
   "id": "890736d7-23d4-44f5-a305-c6397219e0f1",
   "metadata": {},
   "source": [
    "### 1. Import required packages"
   ]
  },
  {
   "cell_type": "code",
   "execution_count": 1,
   "id": "2699bc52-e654-49b3-8ac1-5ca6e458020e",
   "metadata": {},
   "outputs": [],
   "source": [
    "import MetaTrader5 as mt5\n",
    "from datetime import datetime\n",
    "import numpy as np"
   ]
  },
  {
   "cell_type": "markdown",
   "id": "961b7e15-1732-48f0-9242-5844ec15da70",
   "metadata": {},
   "source": [
    "### 2. Initialise MT5 binding"
   ]
  },
  {
   "cell_type": "code",
   "execution_count": 3,
   "id": "de45be6c-a1ac-4d18-a7ce-342dee22c952",
   "metadata": {},
   "outputs": [
    {
     "data": {
      "text/plain": [
       "True"
      ]
     },
     "execution_count": 3,
     "metadata": {},
     "output_type": "execute_result"
    }
   ],
   "source": [
    "mt5.initialize(\"C:\\\\Program Files\\\\Pepperstone MetaTrader 5\\\\terminal64.exe\")"
   ]
  },
  {
   "cell_type": "markdown",
   "id": "2d285fb9-6cf6-49be-ad8d-332a3916a0a9",
   "metadata": {},
   "source": [
    "### 3. Place orders with take profit & stop loss"
   ]
  },
  {
   "cell_type": "markdown",
   "id": "946e4905-6bb4-4b5e-9c91-148ee8889094",
   "metadata": {},
   "source": [
    "#### BUY order"
   ]
  },
  {
   "cell_type": "code",
   "execution_count": 7,
   "id": "37b00eb9-3df0-4168-8537-8fa570f5d6a2",
   "metadata": {},
   "outputs": [
    {
     "data": {
      "text/plain": [
       "'Done'"
      ]
     },
     "execution_count": 7,
     "metadata": {},
     "output_type": "execute_result"
    }
   ],
   "source": [
    "# Variables\n",
    "volume = 0.1\n",
    "symbol = \"EURUSD_SB\"\n",
    "deviation = 10\n",
    "\n",
    "# Extract symbol point\n",
    "point = mt5.symbol_info(symbol).point\n",
    "\n",
    "# Find the filling mode of symbol\n",
    "#filling_type = mt5.symbol_info(symbol).filling_mode\n",
    "\n",
    "# Create request\n",
    "request = {\n",
    "    \"action\": mt5.TRADE_ACTION_DEAL,\n",
    "    \"symbol\": symbol,\n",
    "    \"volume\": volume,\n",
    "    \"type\": mt5.ORDER_TYPE_BUY,\n",
    "    \"deviation\": deviation,\n",
    "    \"tp\": mt5.symbol_info_tick(symbol).ask + 100*point,\n",
    "    \"sl\": mt5.symbol_info_tick(symbol).ask - 100*point, \n",
    "    \"type_filling\": mt5.ORDER_FILLING_IOC, # OR filling_type\n",
    "    \"type_time\": mt5.ORDER_TIME_GTC,\n",
    "}\n",
    "\n",
    "# Test order\n",
    "mt5.order_check(request).comment"
   ]
  },
  {
   "cell_type": "markdown",
   "id": "0ef11e46-feac-465e-aad5-4fb8c6c90fd3",
   "metadata": {},
   "source": [
    "#### SELL order"
   ]
  },
  {
   "cell_type": "code",
   "execution_count": 9,
   "id": "e2999067-4223-4094-85e4-4be805829640",
   "metadata": {},
   "outputs": [
    {
     "data": {
      "text/plain": [
       "'Done'"
      ]
     },
     "execution_count": 9,
     "metadata": {},
     "output_type": "execute_result"
    }
   ],
   "source": [
    "# Variables\n",
    "volume = 0.1\n",
    "symbol = \"EURUSD_SB\"\n",
    "deviation = 10\n",
    "\n",
    "# Extract symbol point\n",
    "point = mt5.symbol_info(symbol).point\n",
    "\n",
    "# Find the filling mode of symbol\n",
    "#filling_type = mt5.symbol_info(symbol).filling_mode\n",
    "\n",
    "# Create request\n",
    "request = {\n",
    "    \"action\": mt5.TRADE_ACTION_DEAL,\n",
    "    \"symbol\": symbol,\n",
    "    \"volume\": volume,\n",
    "    \"type\": mt5.ORDER_TYPE_SELL,\n",
    "    \"price\": mt5.symbol_info_tick(symbol).bid,\n",
    "    \"deviation\": deviation,\n",
    "    \"tp\": mt5.symbol_info_tick(symbol).ask - 100 * point,\n",
    "    \"sl\": mt5.symbol_info_tick(symbol).ask + 100 * point, \n",
    "    \"type_filling\": mt5.ORDER_FILLING_IOC, # OR filling_type\n",
    "    \"type_time\": mt5.ORDER_TIME_GTC,\n",
    "}\n",
    "\n",
    "mt5.order_check(request).comment"
   ]
  },
  {
   "cell_type": "markdown",
   "id": "ef6e04a7-342e-42d2-92b7-cbc9b10be6c8",
   "metadata": {},
   "source": [
    "### 4. Find stop loss and take profit levels for a specific risk percentage"
   ]
  },
  {
   "cell_type": "code",
   "execution_count": 11,
   "id": "a381add8-7192-4e5e-a1b6-23bbc9045969",
   "metadata": {},
   "outputs": [
    {
     "name": "stdout",
     "output_type": "stream",
     "text": [
      "PRICE: 1.10454 \t Take Profit: 1.10528 \t Stop Loss: 1.10417\n"
     ]
    }
   ],
   "source": [
    "# Variables\n",
    "symbol = \"EURUSD_SB\"\n",
    "buy = True\n",
    "risk  = 0.01\n",
    "risk_reward_ratio = 2\n",
    "\n",
    "# Extract account leverage\n",
    "leverage = mt5.account_info().leverage\n",
    "\n",
    "# Compute the price\n",
    "price = mt5.symbol_info(symbol).ask\n",
    "\n",
    "# Extract the number of decimals\n",
    "nb_decimal = str(price)[::-1].find(\".\")\n",
    "\n",
    "\n",
    "# Compute the variations in percentage\n",
    "var_down = risk/leverage\n",
    "var_up = (risk * risk_reward_ratio)/leverage\n",
    "\n",
    "\n",
    "# Find the TP and SL threshold in absolute price\n",
    "if buy:\n",
    "    price = mt5.symbol_info(symbol).ask\n",
    "\n",
    "    # Compute the variations in absolute price\n",
    "    price_var_down = var_down*price\n",
    "    price_var_up = var_up * price\n",
    "\n",
    "    tp = np.round(price + price_var_up, nb_decimal)\n",
    "    sl = np.round(price - price_var_down, nb_decimal)\n",
    "\n",
    "else:\n",
    "\n",
    "    price = mt5.symbol_info(symbol).bid\n",
    "\n",
    "    # Compute the variations in absolute price\n",
    "    price_var_down = var_down*price\n",
    "    price_var_up = var_up * price\n",
    "\n",
    "    tp = np.round(price - price_var_up, nb_decimal)\n",
    "    sl = np.round(price + price_var_down, nb_decimal)\n",
    "\n",
    "print(f\"PRICE: {price} \\t Take Profit: {tp} \\t Stop Loss: {sl}\")"
   ]
  },
  {
   "cell_type": "markdown",
   "id": "8f24998f-579f-406d-8150-a140a0cfffd8",
   "metadata": {},
   "source": [
    "### 5. Find the volume based on account capital"
   ]
  },
  {
   "cell_type": "code",
   "execution_count": null,
   "id": "019dc455-2653-4b46-8325-546b260be237",
   "metadata": {},
   "outputs": [],
   "source": []
  }
 ],
 "metadata": {
  "kernelspec": {
   "display_name": "Python 3 (ipykernel)",
   "language": "python",
   "name": "python3"
  },
  "language_info": {
   "codemirror_mode": {
    "name": "ipython",
    "version": 3
   },
   "file_extension": ".py",
   "mimetype": "text/x-python",
   "name": "python",
   "nbconvert_exporter": "python",
   "pygments_lexer": "ipython3",
   "version": "3.11.5"
  }
 },
 "nbformat": 4,
 "nbformat_minor": 5
}
