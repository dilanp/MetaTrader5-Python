{
 "cells": [
  {
   "cell_type": "markdown",
   "id": "8e910347-4f0d-429a-9cb4-d89aacace1b8",
   "metadata": {},
   "source": [
    "### 1. Import required packages"
   ]
  },
  {
   "cell_type": "code",
   "execution_count": 10,
   "id": "cd6e5013-2947-4154-9e39-22acffed8b0c",
   "metadata": {},
   "outputs": [],
   "source": [
    "import MetaTrader5 as mt5"
   ]
  },
  {
   "cell_type": "markdown",
   "id": "ff081d0d-1623-4efb-9895-a51fe70b6d56",
   "metadata": {},
   "source": [
    "### 2. Initialise the binding"
   ]
  },
  {
   "cell_type": "code",
   "execution_count": 11,
   "id": "ad310807-d7c2-4de3-84ce-75df59d6febb",
   "metadata": {},
   "outputs": [
    {
     "data": {
      "text/plain": [
       "True"
      ]
     },
     "execution_count": 11,
     "metadata": {},
     "output_type": "execute_result"
    }
   ],
   "source": [
    "mt5.initialize(\"C:\\\\Program Files\\\\Pepperstone MetaTrader 5\\\\terminal64.exe\")"
   ]
  },
  {
   "cell_type": "markdown",
   "id": "ade90b50-3c63-447d-8d0f-41640311fd52",
   "metadata": {},
   "source": [
    "### 3. Account information"
   ]
  },
  {
   "cell_type": "code",
   "execution_count": 12,
   "id": "28d89cbe-9dfb-4a13-91b2-c4d336c79227",
   "metadata": {},
   "outputs": [
    {
     "data": {
      "text/plain": [
       "AccountInfo(login=62041371, trade_mode=0, leverage=30, limit_orders=500, margin_so_mode=0, trade_allowed=True, trade_expert=True, margin_mode=2, currency_digits=2, fifo_close=False, balance=50000.0, credit=0.0, profit=0.0, equity=50000.0, margin=0.0, margin_free=50000.0, margin_level=0.0, margin_so_call=90.0, margin_so_so=50.0, margin_initial=0.0, margin_maintenance=0.0, assets=0.0, liabilities=0.0, commission_blocked=0.0, name='Dilan Perera', server='PepperstoneUK-Demo', currency='GBP', company='Pepperstone Limited')"
      ]
     },
     "execution_count": 12,
     "metadata": {},
     "output_type": "execute_result"
    }
   ],
   "source": [
    "mt5.account_info()"
   ]
  },
  {
   "cell_type": "code",
   "execution_count": 13,
   "id": "78509b0e-f641-46a8-89c5-8f67e353af70",
   "metadata": {},
   "outputs": [
    {
     "name": "stdout",
     "output_type": "stream",
     "text": [
      "Balance:  50000.0\n"
     ]
    }
   ],
   "source": [
    "# Get account balance\n",
    "acc_info = mt5.account_info()\n",
    "balance = acc_info.balance\n",
    "print(\"Balance: \", balance)"
   ]
  },
  {
   "cell_type": "markdown",
   "id": "4d8e1943-49b8-4799-afad-636a0dc7a16a",
   "metadata": {},
   "source": [
    "### 4. Symbol information"
   ]
  },
  {
   "cell_type": "code",
   "execution_count": 17,
   "id": "f3e4841b-ada3-4982-afcd-5216b747a158",
   "metadata": {},
   "outputs": [
    {
     "data": {
      "text/plain": [
       "SymbolInfo(custom=False, chart_mode=0, select=True, visible=True, session_deals=0, session_buy_orders=0, session_sell_orders=0, volume=0, volumehigh=0, volumelow=0, time=1703877940, digits=5, spread=9, spread_float=True, ticks_bookdepth=0, trade_calc_mode=2, trade_mode=4, start_time=0, expiration_time=0, trade_stops_level=0, trade_freeze_level=0, trade_exemode=2, swap_mode=1, swap_rollover3days=3, margin_hedged_use_leg=False, expiration_mode=15, filling_mode=2, order_mode=127, order_gtc_mode=0, option_mode=0, option_right=0, bid=1.10596, bidhigh=1.1084100000000001, bidlow=1.10423, ask=1.10605, askhigh=1.1085, asklow=1.1043, last=0.0, lasthigh=0.0, lastlow=0.0, volume_real=0.0, volumehigh_real=0.0, volumelow_real=0.0, option_strike=0.0, point=1e-05, trade_tick_value=0.1, trade_tick_value_profit=0.1, trade_tick_value_loss=0.1, trade_tick_size=1e-05, trade_contract_size=10000.0, trade_accrued_interest=0.0, trade_face_value=0.0, trade_liquidity_rate=0.0, volume_min=0.1, volume_max=1000.0, volume_step=0.1, volume_limit=0.0, swap_long=-7.11, swap_short=1.09, margin_initial=0.0, margin_maintenance=0.0, session_volume=0.0, session_turnover=0.0, session_interest=0.0, session_buy_orders_volume=0.0, session_sell_orders_volume=0.0, session_open=1.1061, session_close=1.10616, session_aw=0.0, session_price_settlement=0.0, session_price_limit_min=0.0, session_price_limit_max=0.0, margin_hedged=0.0, price_change=-0.0181, price_volatility=0.0, price_theoretical=0.0, price_greeks_delta=0.0, price_greeks_theta=0.0, price_greeks_gamma=0.0, price_greeks_vega=0.0, price_greeks_rho=0.0, price_greeks_omega=0.0, price_sensitivity=0.0, basis='', category='', currency_base='GBP', currency_profit='GBP', currency_margin='GBP', bank='Pepperstone', description='GBPo vs US Dollar, bet in 1 GBP per (0.0001)', exchange='', formula='', isin='', name='EURUSD_SB', page='', path='Spread Betting - GBP\\\\Forex\\\\Majors\\\\EURUSD_SB')"
      ]
     },
     "execution_count": 17,
     "metadata": {},
     "output_type": "execute_result"
    }
   ],
   "source": [
    "# Get symbol information\n",
    "mt5.symbol_info(\"EURUSD_SB\") # Check with broker MT5 platform\n"
   ]
  },
  {
   "cell_type": "code",
   "execution_count": 21,
   "id": "fa2d45d1-6d3d-497d-8b2a-0a819aa153a1",
   "metadata": {},
   "outputs": [
    {
     "data": {
      "text/plain": [
       "8"
      ]
     },
     "execution_count": 21,
     "metadata": {},
     "output_type": "execute_result"
    }
   ],
   "source": [
    "eur_usd = mt5.symbol_info(\"EURUSD_SB\") # Check with broker MT5 platform\n",
    "eur_usd.spread"
   ]
  },
  {
   "cell_type": "code",
   "execution_count": 22,
   "id": "93037179-42a8-4e9a-81b6-640f4bca47d3",
   "metadata": {},
   "outputs": [
    {
     "data": {
      "text/plain": [
       "1.106"
      ]
     },
     "execution_count": 22,
     "metadata": {},
     "output_type": "execute_result"
    }
   ],
   "source": [
    "eur_usd.ask"
   ]
  },
  {
   "cell_type": "code",
   "execution_count": 23,
   "id": "09fb353f-a2c2-47fe-942b-12a0d85814e0",
   "metadata": {},
   "outputs": [
    {
     "data": {
      "text/plain": [
       "'GBPo vs US Dollar, bet in 1 GBP per (0.0001)'"
      ]
     },
     "execution_count": 23,
     "metadata": {},
     "output_type": "execute_result"
    }
   ],
   "source": [
    "eur_usd.description"
   ]
  },
  {
   "cell_type": "code",
   "execution_count": 24,
   "id": "c95fdc49-d123-4a0f-9881-35d0ac7c25e2",
   "metadata": {},
   "outputs": [
    {
     "data": {
      "text/plain": [
       "'Spread Betting - GBP\\\\Forex\\\\Majors\\\\EURUSD_SB'"
      ]
     },
     "execution_count": 24,
     "metadata": {},
     "output_type": "execute_result"
    }
   ],
   "source": [
    "eur_usd.path"
   ]
  },
  {
   "cell_type": "markdown",
   "id": "99ad1c96-7861-429b-8d96-65374c4f2977",
   "metadata": {},
   "source": [
    "### 5. Book orders"
   ]
  },
  {
   "cell_type": "code",
   "execution_count": 29,
   "id": "92e6f94e-fe4b-4eb6-b4c5-9b34c26ba392",
   "metadata": {},
   "outputs": [
    {
     "data": {
      "text/plain": [
       "False"
      ]
     },
     "execution_count": 29,
     "metadata": {},
     "output_type": "execute_result"
    }
   ],
   "source": [
    "mt5.market_book_add('EURUSD')"
   ]
  },
  {
   "cell_type": "code",
   "execution_count": 30,
   "id": "b731cdb9-16cb-4dee-8985-48b1c0510750",
   "metadata": {},
   "outputs": [],
   "source": [
    "mt5.market_book_get('EURUSD_SB')"
   ]
  },
  {
   "cell_type": "code",
   "execution_count": 31,
   "id": "a8fc2fb5-5a73-4f96-9007-17233a160595",
   "metadata": {},
   "outputs": [
    {
     "data": {
      "text/plain": [
       "False"
      ]
     },
     "execution_count": 31,
     "metadata": {},
     "output_type": "execute_result"
    }
   ],
   "source": [
    "mt5.market_book_release('EURUSD')"
   ]
  },
  {
   "cell_type": "markdown",
   "id": "8e956e09-174f-4552-a7f1-2d60797eafd2",
   "metadata": {},
   "source": [
    "### 6. Add a symbol to Market Watch"
   ]
  },
  {
   "cell_type": "code",
   "execution_count": 32,
   "id": "65a4fafb-1839-471e-9f71-8dcc8cfddb75",
   "metadata": {},
   "outputs": [
    {
     "data": {
      "text/plain": [
       "True"
      ]
     },
     "execution_count": 32,
     "metadata": {},
     "output_type": "execute_result"
    }
   ],
   "source": [
    "mt5.symbol_select(\"GBPCAD_SB\") # Check with broker MT5 platform"
   ]
  },
  {
   "cell_type": "code",
   "execution_count": null,
   "id": "ac97091d-e196-4fda-8c49-ab0c61c3d648",
   "metadata": {},
   "outputs": [],
   "source": []
  }
 ],
 "metadata": {
  "kernelspec": {
   "display_name": "Python 3 (ipykernel)",
   "language": "python",
   "name": "python3"
  },
  "language_info": {
   "codemirror_mode": {
    "name": "ipython",
    "version": 3
   },
   "file_extension": ".py",
   "mimetype": "text/x-python",
   "name": "python",
   "nbconvert_exporter": "python",
   "pygments_lexer": "ipython3",
   "version": "3.11.5"
  }
 },
 "nbformat": 4,
 "nbformat_minor": 5
}
